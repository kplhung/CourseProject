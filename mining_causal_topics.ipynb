{
 "cells": [
  {
   "cell_type": "markdown",
   "metadata": {},
   "source": [
    "# Filter May - Oct 2000 NYT corpus for election-related paragraphs"
   ]
  },
  {
   "cell_type": "code",
   "execution_count": 7,
   "metadata": {},
   "outputs": [],
   "source": [
    "import os\n",
    "import xml.etree.ElementTree as ET\n",
    "\n",
    "def find_election_paragraphs(directory):\n",
    "    election_paragraphs = open(\"election_paragraphs.txt\", \"w+\")\n",
    "    for root, dirs, files in os.walk(directory):\n",
    "        for file in files:\n",
    "            f = open(os.path.join(root, file), \"r\")\n",
    "            parse_xml(f, election_paragraphs)\n",
    "\n",
    "            \n",
    "def parse_xml(xml, election_paragraphs):\n",
    "    tree = ET.parse(xml)\n",
    "    root = tree.getroot()\n",
    "    for person in root.findall('.//person'):\n",
    "        name = person.text\n",
    "        if contains_election_words(name):\n",
    "            for block in root.findall('.//block'):\n",
    "                if block.attrib['class'] == 'full_text':\n",
    "                    for paragraph in block.findall('.//p'):\n",
    "                        if contains_election_words(paragraph.text):\n",
    "                            election_paragraphs.write(paragraph.text + '\\n')\n",
    "            break\n",
    "\n",
    "    \n",
    "def contains_election_words(text):\n",
    "    return \"Bush\" in text or \"Gore\" in text\n",
    "    \n",
    "            "
   ]
  },
  {
   "cell_type": "code",
   "execution_count": 14,
   "metadata": {},
   "outputs": [
    {
     "data": {
      "text/html": [
       "<div>\n",
       "<style scoped>\n",
       "    .dataframe tbody tr th:only-of-type {\n",
       "        vertical-align: middle;\n",
       "    }\n",
       "\n",
       "    .dataframe tbody tr th {\n",
       "        vertical-align: top;\n",
       "    }\n",
       "\n",
       "    .dataframe thead th {\n",
       "        text-align: right;\n",
       "    }\n",
       "</style>\n",
       "<table border=\"1\" class=\"dataframe\">\n",
       "  <thead>\n",
       "    <tr style=\"text-align: right;\">\n",
       "      <th></th>\n",
       "      <th>0</th>\n",
       "    </tr>\n",
       "  </thead>\n",
       "  <tbody>\n",
       "    <tr>\n",
       "      <th>0</th>\n",
       "      <td>Following are excerpts from remarks prepared f...</td>\n",
       "    </tr>\n",
       "    <tr>\n",
       "      <th>1</th>\n",
       "      <td>From what we can tell of his foreign policy, G...</td>\n",
       "    </tr>\n",
       "    <tr>\n",
       "      <th>2</th>\n",
       "      <td>Governor Bush dangerously fixates on the cold ...</td>\n",
       "    </tr>\n",
       "    <tr>\n",
       "      <th>3</th>\n",
       "      <td>Stuck in a cold war mindset, Governor Bush con...</td>\n",
       "    </tr>\n",
       "    <tr>\n",
       "      <th>4</th>\n",
       "      <td>Just this past week, Governor Bush used his br...</td>\n",
       "    </tr>\n",
       "    <tr>\n",
       "      <th>...</th>\n",
       "      <td>...</td>\n",
       "    </tr>\n",
       "    <tr>\n",
       "      <th>1608</th>\n",
       "      <td>''We have a national consensus about the impor...</td>\n",
       "    </tr>\n",
       "    <tr>\n",
       "      <th>1609</th>\n",
       "      <td>Mr. Bush said the proposal he made today would...</td>\n",
       "    </tr>\n",
       "    <tr>\n",
       "      <th>1610</th>\n",
       "      <td>The plan would set aside half of that money fo...</td>\n",
       "    </tr>\n",
       "    <tr>\n",
       "      <th>1611</th>\n",
       "      <td>Today's speech followed, by only two days, a m...</td>\n",
       "    </tr>\n",
       "    <tr>\n",
       "      <th>1612</th>\n",
       "      <td>Mr. Bush did not mention or criticize that pro...</td>\n",
       "    </tr>\n",
       "  </tbody>\n",
       "</table>\n",
       "<p>1613 rows × 1 columns</p>\n",
       "</div>"
      ],
      "text/plain": [
       "                                                      0\n",
       "0     Following are excerpts from remarks prepared f...\n",
       "1     From what we can tell of his foreign policy, G...\n",
       "2     Governor Bush dangerously fixates on the cold ...\n",
       "3     Stuck in a cold war mindset, Governor Bush con...\n",
       "4     Just this past week, Governor Bush used his br...\n",
       "...                                                 ...\n",
       "1608  ''We have a national consensus about the impor...\n",
       "1609  Mr. Bush said the proposal he made today would...\n",
       "1610  The plan would set aside half of that money fo...\n",
       "1611  Today's speech followed, by only two days, a m...\n",
       "1612  Mr. Bush did not mention or criticize that pro...\n",
       "\n",
       "[1613 rows x 1 columns]"
      ]
     },
     "execution_count": 14,
     "metadata": {},
     "output_type": "execute_result"
    }
   ],
   "source": [
    "import pandas as pd\n",
    "\n",
    "paragraphs_df = pd.read_csv(\"election_paragraphs.txt\", delimiter = \"\\n\", header = None)\n",
    "paragraphs_df"
   ]
  },
  {
   "cell_type": "markdown",
   "metadata": {},
   "source": [
    "# Apply LDA to the paragraph set to identify candidate topics"
   ]
  },
  {
   "cell_type": "markdown",
   "metadata": {},
   "source": [
    "## Clean document set"
   ]
  },
  {
   "cell_type": "code",
   "execution_count": null,
   "metadata": {},
   "outputs": [],
   "source": []
  }
 ],
 "metadata": {
  "kernelspec": {
   "display_name": "Python 3",
   "language": "python",
   "name": "python3"
  },
  "language_info": {
   "codemirror_mode": {
    "name": "ipython",
    "version": 3
   },
   "file_extension": ".py",
   "mimetype": "text/x-python",
   "name": "python",
   "nbconvert_exporter": "python",
   "pygments_lexer": "ipython3",
   "version": "3.8.3"
  }
 },
 "nbformat": 4,
 "nbformat_minor": 4
}
